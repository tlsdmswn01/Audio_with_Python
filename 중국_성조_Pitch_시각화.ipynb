{
  "nbformat": 4,
  "nbformat_minor": 0,
  "metadata": {
    "colab": {
      "private_outputs": true,
      "provenance": [],
      "authorship_tag": "ABX9TyPJ6ObZgns1sYNGJPPahJLl",
      "include_colab_link": true
    },
    "kernelspec": {
      "name": "python3",
      "display_name": "Python 3"
    },
    "language_info": {
      "name": "python"
    }
  },
  "cells": [
    {
      "cell_type": "markdown",
      "metadata": {
        "id": "view-in-github",
        "colab_type": "text"
      },
      "source": [
        "<a href=\"https://colab.research.google.com/github/tlsdmswn01/Audio_with_Python/blob/main/%EC%A4%91%EA%B5%AD_%EC%84%B1%EC%A1%B0_Pitch_%EC%8B%9C%EA%B0%81%ED%99%94.ipynb\" target=\"_parent\"><img src=\"https://colab.research.google.com/assets/colab-badge.svg\" alt=\"Open In Colab\"/></a>"
      ]
    },
    {
      "cell_type": "code",
      "source": [
        "!pip install praat-parselmouth"
      ],
      "metadata": {
        "id": "ZDIjZK2458MM"
      },
      "execution_count": null,
      "outputs": []
    },
    {
      "cell_type": "code",
      "source": [
        "!pip install SpeechRecognition"
      ],
      "metadata": {
        "id": "keLCd7XaJuQk"
      },
      "execution_count": null,
      "outputs": []
    },
    {
      "cell_type": "code",
      "source": [
        "import parselmouth\n",
        "\n",
        "import numpy as np\n",
        "import matplotlib.pyplot as plt\n",
        "import seaborn as sns"
      ],
      "metadata": {
        "id": "3DJzX1ZHuex5"
      },
      "execution_count": null,
      "outputs": []
    },
    {
      "cell_type": "code",
      "source": [
        "def get_sentence(file_path):\n",
        "\n",
        "    import speech_recognition as sr\n",
        "\n",
        "    r = sr.Recognizer()\n",
        "\n",
        "    sample = sr.AudioFile(file_path)\n",
        "    with sample as source:\n",
        "        audio = r.record(source)\n",
        "\n",
        "    msg = r.recognize_google(audio,language = 'zh-CN')\n",
        "    return msg"
      ],
      "metadata": {
        "id": "Gt_B_vwNJZGN"
      },
      "execution_count": null,
      "outputs": []
    },
    {
      "cell_type": "code",
      "source": [
        "msg=get_sentence(file)\n",
        "print(msg)"
      ],
      "metadata": {
        "id": "1qtk-fW4J1-y"
      },
      "execution_count": null,
      "outputs": []
    },
    {
      "cell_type": "code",
      "execution_count": null,
      "metadata": {
        "id": "PvXx1aD5qktA"
      },
      "outputs": [],
      "source": [
        "file='/content/ED-LC-F-25-ko-220925-100002_228_1_86-zh.wav'\n",
        "Sound=parselmouth.Sound(\"/content/ED-LC-F-25-ko-220925-100002_228_1_86-zh.wav\")\n",
        "pitch = Sound.to_pitch()"
      ]
    },
    {
      "cell_type": "code",
      "source": [
        "def pitch_values(pitch):\n",
        "    output = pitch.selected_array['frequency']\n",
        "    output[output==0] = np.nan\n",
        "    return output\n",
        "\n",
        "def draw_pitch(output):\n",
        "    # Extract selected pitch contour, and\n",
        "    # replace unvoiced samples by NaN to not plot\n",
        "    plt.plot(np.arange(len(output)), output, color='blue')\n",
        "    plt.grid(False)\n",
        "    plt.ylim(0, pitch.ceiling)\n",
        "    plt.ylabel(\"fundamental frequency [Hz]\")\n",
        "\n",
        "def Sep_Words(a):\n",
        "    cluster = []\n",
        "    current_slice = []\n",
        "\n",
        "    for value in a:\n",
        "        if not np.isnan(value):\n",
        "            current_slice.append(value)\n",
        "        elif current_slice:\n",
        "            cluster.append(current_slice.copy())\n",
        "            current_slice.clear()\n",
        "\n",
        "    if current_slice:\n",
        "        cluster.append(current_slice)\n",
        "\n",
        "    return cluster"
      ],
      "metadata": {
        "id": "9yg_IK_PulL4"
      },
      "execution_count": null,
      "outputs": []
    },
    {
      "cell_type": "code",
      "source": [
        "output=pitch_values(pitch)\n",
        "output"
      ],
      "metadata": {
        "id": "9xYafM935t2u"
      },
      "execution_count": null,
      "outputs": []
    },
    {
      "cell_type": "code",
      "source": [
        "output1=Sep_Words(output)"
      ],
      "metadata": {
        "id": "_N2sApdQFp2_"
      },
      "execution_count": null,
      "outputs": []
    },
    {
      "cell_type": "code",
      "source": [
        "len(output1)"
      ],
      "metadata": {
        "id": "mHnHBL0FHggK"
      },
      "execution_count": null,
      "outputs": []
    },
    {
      "cell_type": "code",
      "source": [
        "# 성조 시각화 할때 음절단위..? 혹은 형태소 단위? 여쭤보\n",
        "plt.figure()\n",
        "draw_pitch(output)\n",
        "\n",
        "import scipy.io.wavfile\n",
        "import IPython.display as ipd\n",
        "#wav파일 읽어오기\n",
        "sr, data = scipy.io.wavfile.read(file)\n",
        "\n",
        "ipd.Audio(data,rate=sr)"
      ],
      "metadata": {
        "id": "dmMF4ZQVuvzw"
      },
      "execution_count": null,
      "outputs": []
    },
    {
      "cell_type": "code",
      "source": [],
      "metadata": {
        "id": "A2d6obuLuzLv"
      },
      "execution_count": null,
      "outputs": []
    }
  ]
}