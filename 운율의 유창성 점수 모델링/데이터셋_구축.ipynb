{
  "nbformat": 4,
  "nbformat_minor": 0,
  "metadata": {
    "colab": {
      "provenance": [],
      "include_colab_link": true
    },
    "kernelspec": {
      "name": "python3",
      "display_name": "Python 3"
    },
    "language_info": {
      "name": "python"
    }
  },
  "cells": [
    {
      "cell_type": "markdown",
      "metadata": {
        "id": "view-in-github",
        "colab_type": "text"
      },
      "source": [
        "<a href=\"https://colab.research.google.com/github/tlsdmswn01/NLP_Project---Audio/blob/main/%EC%9A%B4%EC%9C%A8%EC%9D%98%20%EC%9C%A0%EC%B0%BD%EC%84%B1%20%EC%A0%90%EC%88%98%20%EB%AA%A8%EB%8D%B8%EB%A7%81/%EB%8D%B0%EC%9D%B4%ED%84%B0%EC%85%8B_%EA%B5%AC%EC%B6%95.ipynb\" target=\"_parent\"><img src=\"https://colab.research.google.com/assets/colab-badge.svg\" alt=\"Open In Colab\"/></a>"
      ]
    },
    {
      "cell_type": "code",
      "source": [
        "from google.colab import drive\n",
        "drive.mount('/content/drive')"
      ],
      "metadata": {
        "id": "78I5_9CdmTM1",
        "colab": {
          "base_uri": "https://localhost:8080/"
        },
        "outputId": "866f2b7a-2249-4a19-8b34-dd1a86e2138e"
      },
      "execution_count": null,
      "outputs": [
        {
          "output_type": "stream",
          "name": "stdout",
          "text": [
            "Mounted at /content/drive\n"
          ]
        }
      ]
    },
    {
      "cell_type": "code",
      "source": [
        "cd/content/drive/Shareddrives/자연어 처리 프로젝트/발음평가/발음평가_데이터"
      ],
      "metadata": {
        "id": "djXMT8veocKv",
        "colab": {
          "base_uri": "https://localhost:8080/"
        },
        "outputId": "5b438490-25ff-4590-e345-f29fd8cd8ec4"
      },
      "execution_count": null,
      "outputs": [
        {
          "output_type": "stream",
          "name": "stdout",
          "text": [
            "/content/drive/Shareddrives/자연어 처리 프로젝트/발음평가/발음평가_데이터\n"
          ]
        }
      ]
    },
    {
      "cell_type": "code",
      "source": [
        "import os\n",
        "import numpy as np\n",
        "folder_path = \"Shareddrives/자연어 처리 프로젝트/발음평가/발음평가_데이터\"  # 파일이 들어 있는 폴더명\n",
        "file_list = os.listdir(os.path.join('/content/drive', folder_path)) # 파일 목록명 불러오기\n",
        "\n",
        "# 파일 목록 출력\n",
        "print(file_list)"
      ],
      "metadata": {
        "id": "wrYnTyu3mkn4"
      },
      "execution_count": null,
      "outputs": []
    },
    {
      "cell_type": "markdown",
      "source": [
        "## 데이터 셋 만들기"
      ],
      "metadata": {
        "id": "re0y4fJhBvAI"
      }
    },
    {
      "cell_type": "markdown",
      "source": [
        "### 오디오 파일과 라벨 데이터 짝 맞추기"
      ],
      "metadata": {
        "id": "ukO2D6PUpBoy"
      }
    },
    {
      "cell_type": "code",
      "source": [
        "import pandas as pd\n",
        "\n",
        "# 파일 경로와 확장자 명\n",
        "wav = \".wav\"  # 오디오 파일 확장자\n",
        "json = \".json\"  # 라벨링 파일 확장자\n",
        "\n",
        "\n",
        "# 파일 이름이 같은 경우를 찾아서 데이터프레임으로 변환\n",
        "data = []\n",
        "for file in file_list:\n",
        "    if file.endswith(wav):\n",
        "        # 오디오 파일을 찾은 경우\n",
        "        wav_file = file\n",
        "        label_file = file.replace(wav, json)  # 라벨링 파일 찾기\n",
        "        if label_file in file_list:\n",
        "            # 라벨링 파일이 존재하는 경우\n",
        "            data.append([wav_file, label_file])\n",
        "\n",
        "# 데이터프레임 생성\n",
        "df = pd.DataFrame(data, columns=[\"오디오 파일\", \"라벨링 파일\"])\n",
        "\n",
        "# 데이터프레임 출력\n",
        "df.to_csv('/content/drive/Shareddrives/자연어 처리 프로젝트/발음평가/audio_label_dataset.csv')"
      ],
      "metadata": {
        "id": "3LUSVc4gjpzj"
      },
      "execution_count": null,
      "outputs": []
    },
    {
      "cell_type": "code",
      "source": [
        "df.info()"
      ],
      "metadata": {
        "id": "nsAMxGea-RGg"
      },
      "execution_count": null,
      "outputs": []
    },
    {
      "cell_type": "code",
      "source": [
        "import pandas as pd\n",
        "df=pd.read_csv('/content/drive/Shareddrives/자연어 처리 프로젝트/발음평가/audio_label_dataset.csv')"
      ],
      "metadata": {
        "id": "Mp44xbplG5S7"
      },
      "execution_count": null,
      "outputs": []
    },
    {
      "cell_type": "markdown",
      "source": [
        "## 데이터 전처리"
      ],
      "metadata": {
        "id": "--A9EjdODRtd"
      }
    },
    {
      "cell_type": "markdown",
      "source": [
        "### MFCC 뽑아서 패딩까지"
      ],
      "metadata": {
        "id": "a3wZrl4UpFOe"
      }
    },
    {
      "cell_type": "markdown",
      "source": [
        "### 음성 데이터 길이 확인"
      ],
      "metadata": {
        "id": "IjiVG_4rRryP"
      }
    },
    {
      "cell_type": "code",
      "source": [
        "from tqdm import tqdm\n",
        "import librosa\n",
        "import matplotlib.pyplot as plt\n",
        "\n",
        "# 음성 데이터 길이를 저장할 리스트 생성\n",
        "duration_list = []\n",
        "\n",
        "for i in tqdm(range(len(df['오디오 파일']))):\n",
        "    data1, sr = librosa.load(df['오디오 파일'][i], sr=16000)\n",
        "    duration_in_seconds = librosa.get_duration(y=data1, sr=sr)\n",
        "    duration_list.append(duration_in_seconds)\n",
        "\n",
        "# 히스토그램 그리기\n",
        "plt.figure(figsize=(10,10))\n",
        "plt.hist(duration_list, bins=50, alpha=0.5, color='b')\n",
        "plt.xticks(range(0, int(max(duration_list)) + 1, 5))\n",
        "plt.xlabel('Audio_duration (sec)')\n",
        "plt.ylabel('Count')\n",
        "plt.title('Audio_data_duration')\n",
        "plt.show()"
      ],
      "metadata": {
        "id": "Q4UnYazmGRO_",
        "colab": {
          "base_uri": "https://localhost:8080/"
        },
        "outputId": "245ff7a8-4267-4ff7-a571-a707790d64e5"
      },
      "execution_count": null,
      "outputs": [
        {
          "output_type": "stream",
          "name": "stderr",
          "text": [
            "100%|██████████| 8882/8882 [08:58<00:00, 16.48it/s]\n"
          ]
        },
        {
          "output_type": "display_data",
          "data": {
            "text/plain": [
              "<Figure size 1000x1000 with 1 Axes>"
            ],
            "image/png": "[encoded data removed]"
          },
          "metadata": {}
        }
      ]
    },
    {
      "cell_type": "code",
      "source": [
        "indices_to_remove = [i for i, duration in enumerate(duration_list) if duration >= 12]\n",
        "df = df.drop(indices_to_remove)"
      ],
      "metadata": {
        "id": "SE6QngtgGcJx"
      },
      "execution_count": null,
      "outputs": []
    },
    {
      "cell_type": "code",
      "source": [
        "df.info()"
      ],
      "metadata": {
        "id": "Ifl7mPUJNIAg"
      },
      "execution_count": null,
      "outputs": []
    },
    {
      "cell_type": "code",
      "source": [
        "# 패딩함수 : 일정한 고정 길이를 설정 -> 긴 것은 자르고, 짧은 것은 늘리고\n",
        "pad2d = lambda a, i: a[:, 0:i] if a.shape[1] > i else np.hstack((a, np.zeros((a.shape[0], i-a.shape[1]))))"
      ],
      "metadata": {
        "id": "3nGAsgFuJadz"
      },
      "execution_count": null,
      "outputs": []
    },
    {
      "cell_type": "markdown",
      "source": [
        "    - n_mfcc=100 : 기본값은 20,  한 음성에 대해 더 다양한 특징을 추출하고자 100으로 설정\n",
        "    - n_fft=320: 일반적으로 자연어 처리에서는 음성을 20m의 크기를 기본으로 하고 있으며 16000Hz인 음성에서는 320에 해당하는 값\n",
        "    - (16000 * 0.02 = 320) 즉, n_fft는 sr에 frame_length인 0.02를 곱한 값\n",
        "\n",
        "    - hop_length = 160 : hop_length의 길이만큼 옆으로 가면서 데이터를 읽음\n",
        "    - 10ms를 기본으로 하고 있어 16000Hz인 음성에서는 160에 해당\n",
        "    - window_length가 0.025이고 frame_stride가 0.01이라고 하면 0.015초씩은 데이터를 겹치면서 읽는다고 생각"
      ],
      "metadata": {
        "id": "rp8_HxtrO4Kh"
      }
    },
    {
      "cell_type": "code",
      "execution_count": null,
      "metadata": {
        "id": "kJ4Q7ZdGH-e6"
      },
      "outputs": [],
      "source": [
        "# 각 wav 파일의 mfcc 뽑아내기\n",
        "from sklearn.preprocessing import scale\n",
        "def load_file_nopad(file_path):\n",
        "    import librosa\n",
        "    data,sr = librosa.load(file_path,sr=16000)\n",
        "    mfcc = librosa.feature.mfcc(y=data, sr=16000,n_mfcc=100,n_fft=320,hop_length=160)\n",
        "    return mfcc.shape[1]\n",
        "    #mfcc = scale(mfcc, axis=1)\n",
        "\n",
        "\n",
        "def load_file_pad(file_path):\n",
        "    import librosa\n",
        "    data,sr = librosa.load(file_path,sr=16000)\n",
        "    mfcc = librosa.feature.mfcc(y=data, sr=16000,n_mfcc=100,n_fft=320,hop_length=160)\n",
        "    #return mfcc.shape[1]\n",
        "    #mfcc = scale(mfcc, axis=1)\n",
        "    padded_mfcc600 = pad2d(mfcc, 600)\n",
        "    padded_mfcc550 = pad2d(mfcc, 550)\n",
        "    padded_mfcc500 = pad2d(mfcc, 500)\n",
        "    return padded_mfcc600,padded_mfcc550,padded_mfcc500\n",
        "\n"
      ]
    },
    {
      "cell_type": "code",
      "source": [
        "mfcc_list=[]\n",
        "for i in df['오디오 파일']:\n",
        "    audio_mfcc=load_file_nopad(i)\n",
        "    mfcc_list.append(audio_mfcc)\n",
        "\n",
        "mfcc_list600=[]\n",
        "mfcc_list550=[]\n",
        "mfcc_list500=[]\n",
        "for i in df['오디오 파일']:\n",
        "    audio_mfcc600,audio_mfcc550,audio_mfcc500=load_file_nopad(i)\n",
        "    mfcc_list600.append(audio_mfcc600)\n",
        "    mfcc_list550.append(audio_mfcc550)\n",
        "    mfcc_list500.append(audio_mfcc500)"
      ],
      "metadata": {
        "id": "gYiiOWqoKv_G"
      },
      "execution_count": null,
      "outputs": []
    },
    {
      "cell_type": "code",
      "source": [
        "plt.hist(mfcc_list, bins=50, alpha=0.5, color='b', edgecolor='black')\n",
        "#plt.xticks(range(0, int(max(duration_list)) + 1, 5))"
      ],
      "metadata": {
        "id": "vp8bYeJ8N9nd"
      },
      "execution_count": null,
      "outputs": []
    },
    {
      "cell_type": "code",
      "source": [
        "print(np.mean(mfcc_list))\n",
        "print(np.median(mfcc_list))"
      ],
      "metadata": {
        "id": "K1qp4rKHOXsd"
      },
      "execution_count": null,
      "outputs": []
    },
    {
      "cell_type": "code",
      "source": [
        "print(mfcc_list[900].shape) # 각 행들은 다양한 값을 가지고 있는데 여기서 중요한 특징 100개씩만 뽑아옴"
      ],
      "metadata": {
        "id": "a7roUHjSokV_"
      },
      "execution_count": null,
      "outputs": []
    },
    {
      "cell_type": "code",
      "source": [
        "mfcc_list[0].shape"
      ],
      "metadata": {
        "id": "NMWNMlH5PzxB"
      },
      "execution_count": null,
      "outputs": []
    },
    {
      "cell_type": "code",
      "source": [
        "import pickle\n",
        "\n",
        "with open(\"/content/drive/Shareddrives/자연어 처리 프로젝트/발음평가/mfcc_list.pkl'\",\"wb\") as f:\n",
        "    pickle.dump(mfcc_list, f) #shape 가 (100,600)"
      ],
      "metadata": {
        "id": "IHUL1bUeE2_M"
      },
      "execution_count": null,
      "outputs": []
    },
    {
      "cell_type": "markdown",
      "source": [
        "### 크로마그램 추출하기\n"
      ],
      "metadata": {
        "id": "up1k6En_LxMq"
      }
    },
    {
      "cell_type": "markdown",
      "source": [
        "- 패딩된것"
      ],
      "metadata": {
        "id": "1paAakLen5Be"
      }
    },
    {
      "cell_type": "code",
      "source": [
        "# 각 wav 파일의 chromagram 뽑아내기\n",
        "import numpy as np\n",
        "from tqdm import tqdm\n",
        "from sklearn.preprocessing import scale\n",
        "def load_chromagram(file_path):\n",
        "    import librosa\n",
        "    data,sr = librosa.load(file_path)\n",
        "    chromagram= librosa.feature.chroma_stft(y=data,sr=16000,n_fft=320,hop_length=512)\n",
        "    padded_chromagram600 = pad2d(chromagram, 600)\n",
        "    padded_chromagram550 = pad2d(chromagram, 550)\n",
        "    padded_chromagram500 = pad2d(chromagram, 500)\n",
        "    return padded_chromagram600,padded_chromagram550,padded_chromagram500\n",
        "\n",
        "chromagram_padded_list600=[]\n",
        "chromagram_padded_list550=[]\n",
        "chromagram_padded_list500=[]\n",
        "for i in  tqdm(df['오디오 파일']):\n",
        "    audio_chromagram600,audio_chromagram550,audio_chromagram500=load_chromagram(i)\n",
        "    chromagram_padded_list600.append(audio_chromagram600)\n",
        "    chromagram_padded_list550.append(audio_chromagram550)\n",
        "    chromagram_padded_list500.append(audio_chromagram500)\n"
      ],
      "metadata": {
        "id": "2cPHI4fyL10l"
      },
      "execution_count": null,
      "outputs": []
    },
    {
      "cell_type": "code",
      "source": [
        "import pickle\n",
        "with open(\"/content/drive/Shareddrives/자연어 처리 프로젝트/발음평가/chromagram_list600.pkl'\",\"wb\") as f:\n",
        "    pickle.dump(chromagram_padded_list600, f) #shape 가 (12,600)\n",
        "\n",
        "\n",
        "import pickle\n",
        "with open(\"/content/drive/Shareddrives/자연어 처리 프로젝트/발음평가/chromagram_list550.pkl'\",\"wb\") as f:\n",
        "    pickle.dump(chromagram_padded_list550, f) #shape 가 (12,550)\n",
        "\n",
        "\n",
        "import pickle\n",
        "with open(\"/content/drive/Shareddrives/자연어 처리 프로젝트/발음평가/chromagram_list500.pkl'\",\"wb\") as f:\n",
        "    pickle.dump(chromagram_padded_list500, f) #shape 가 (12,500)"
      ],
      "metadata": {
        "id": "6aktuRI-xwxJ"
      },
      "execution_count": null,
      "outputs": []
    },
    {
      "cell_type": "markdown",
      "source": [
        "- 패딩 안된 것"
      ],
      "metadata": {
        "id": "t6nktfR9n6iE"
      }
    },
    {
      "cell_type": "code",
      "source": [
        "# 각 wav 파일의 chromagram 뽑아내기\n",
        "from sklearn.preprocessing import scale\n",
        "def load_chromagram(file_path):\n",
        "    import librosa\n",
        "    data,sr = librosa.load(file_path)\n",
        "    chromagram= librosa.feature.chroma_stft(y=data,sr=16000,n_fft=320,hop_length=512)\n",
        "    return chromagram\n",
        "\n",
        "chromagram_list=[]\n",
        "for i in df['오디오 파일']:\n",
        "    audio_chromagram=load_chromagram(i)\n",
        "    chromagram_list.append(audio_chromagram)"
      ],
      "metadata": {
        "id": "Ul4kj61fn3so"
      },
      "execution_count": null,
      "outputs": []
    },
    {
      "cell_type": "code",
      "source": [
        "chromagram_list[10].shape"
      ],
      "metadata": {
        "id": "a546dyJQVrjV"
      },
      "execution_count": null,
      "outputs": []
    },
    {
      "cell_type": "markdown",
      "source": [
        "### json 파일에서 필요한 데이터만 가져오기"
      ],
      "metadata": {
        "id": "IRjdIRHJpIuv"
      }
    },
    {
      "cell_type": "markdown",
      "source": [
        "#### 발음평가, 운율평가, 능력치 데이터"
      ],
      "metadata": {
        "id": "xnvA-E56q-4d"
      }
    },
    {
      "cell_type": "code",
      "source": [
        "import json\n",
        "arti_score_list=[]\n",
        "pro_score_list=[]\n",
        "ablility_list=[]\n",
        "\n",
        "for i in tqdm(df['라벨링 파일']):\n",
        "    json_file_name = i\n",
        "\n",
        "    with open(json_file_name, 'r') as json_file:\n",
        "        dataset_info = json.load(json_file)\n",
        "\n",
        "    arti_score = dataset_info['itemScript']['rating']['articulationScore'] # 발음평가 점수\n",
        "    pro_score = dataset_info['itemScript']['rating']['prosodyScore'] # 운율평가 점수\n",
        "    ability=dataset_info['recorder']['ability'] # 능력평가 (High,Mid,Low)\n",
        "\n",
        "\n",
        "    arti_score_list.append(arti_score)\n",
        "    pro_score_list.append(pro_score)\n",
        "    ablility_list.append(ability)\n",
        "\n",
        "\n",
        "len(arti_score_list)\n",
        "print('arti_score_list:',arti_score_list)\n",
        "len(pro_score_list)\n",
        "print('pro_score_list',pro_score_list)\n",
        "len(ablility_list)\n",
        "print('ablility_list',ablility_list)\n",
        "\n"
      ],
      "metadata": {
        "id": "U471ZbTsomdt"
      },
      "execution_count": null,
      "outputs": []
    },
    {
      "cell_type": "code",
      "source": [
        "print(len(arti_score_list))"
      ],
      "metadata": {
        "id": "uFYNRYY4GpzL"
      },
      "execution_count": null,
      "outputs": []
    },
    {
      "cell_type": "code",
      "source": [
        "# 문자를 숫자로\n",
        "# 'Low' : 0, 'Mid':1, 'High':2\n",
        "def num_encoding(i):\n",
        "\n",
        "    if i=='LOW':\n",
        "        i=0\n",
        "    elif i==\"MID\":\n",
        "        i=1\n",
        "    else:\n",
        "        i=2\n",
        "\n",
        "    return i\n",
        "\n",
        "ability_list=list(map(num_encoding, ablility_list))"
      ],
      "metadata": {
        "id": "mTE4f7d93QB_"
      },
      "execution_count": null,
      "outputs": []
    },
    {
      "cell_type": "code",
      "source": [
        "import pickle\n",
        "\n",
        "with open(\"/content/drive/Shareddrives/자연어 처리 프로젝트/발음평가/arti_score_list.pkl'\",\"wb\") as f:\n",
        "    pickle.dump(arti_score_list, f)"
      ],
      "metadata": {
        "id": "zUBr2-e7-zsY"
      },
      "execution_count": null,
      "outputs": []
    },
    {
      "cell_type": "code",
      "source": [
        "with open(\"/content/drive/Shareddrives/자연어 처리 프로젝트/발음평가/pro_score_list.pkl'\",\"wb\") as f:\n",
        "    pickle.dump(pro_score_list, f)"
      ],
      "metadata": {
        "id": "F5uAz-vcGXst"
      },
      "execution_count": null,
      "outputs": []
    },
    {
      "cell_type": "code",
      "source": [
        "with open(\"/content/drive/Shareddrives/자연어 처리 프로젝트/발음평가/ability_list.pkl'\",\"wb\") as f:\n",
        "    pickle.dump(ability_list, f)"
      ],
      "metadata": {
        "id": "Le86duOaGdJd"
      },
      "execution_count": null,
      "outputs": []
    },
    {
      "cell_type": "markdown",
      "source": [
        "## 데이터 시각화"
      ],
      "metadata": {
        "id": "KAFidoQ_kQye"
      }
    },
    {
      "cell_type": "code",
      "source": [
        "import pickle\n",
        "with open(\"/content/drive/Shareddrives/자연어 처리 프로젝트/발음평가/pro_score_list.pkl'\",\"rb\") as f:\n",
        "    pro_score_list=pickle.load(f)"
      ],
      "metadata": {
        "id": "IYBAn5K-nczy"
      },
      "execution_count": null,
      "outputs": []
    },
    {
      "cell_type": "code",
      "source": [
        "pro_ind=[]\n",
        "pro_ind.append(pro_score_list.index(1.0))\n",
        "pro_ind.append(pro_score_list.index(1.5))\n",
        "pro_ind.append(pro_score_list.index(2.0))\n",
        "pro_ind.append(pro_score_list.index(2.5))\n",
        "pro_ind.append(pro_score_list.index(3.0))\n",
        "pro_ind.append(pro_score_list.index(3.5))\n",
        "pro_ind.append(pro_score_list.index(4.0))\n",
        "pro_ind.append(pro_score_list.index(4.5))\n",
        "pro_ind.append(pro_score_list.index(5.0))\n"
      ],
      "metadata": {
        "id": "EK4TrUBqnYA-"
      },
      "execution_count": null,
      "outputs": []
    },
    {
      "cell_type": "code",
      "source": [
        "import librosa\n",
        "import matplotlib.pyplot as plt\n",
        "import numpy as np\n",
        "\n",
        "for i in pro_ind:\n",
        "    amp_db=librosa.amplitude_to_db(np.abs(chromagram_list[i]),ref=np.max)\n",
        "    librosa.display.specshow(amp_db,sr=16000,x_axis='time',y_axis='cqt_note')\n",
        "    plt.colorbar(format='%+2.0f dB')\n",
        "    plt.title('pro_score:{}'.format(pro_score_list[i]))\n",
        "    plt.tight_layout()\n",
        "    plt.show()\n",
        "    plt.savefig('크로마그램 이미지{}.png'.format(i))"
      ],
      "metadata": {
        "id": "CrVNCVqvkTjz"
      },
      "execution_count": null,
      "outputs": []
    },
    {
      "cell_type": "code",
      "source": [],
      "metadata": {
        "id": "X1KfbIf7npjW"
      },
      "execution_count": null,
      "outputs": []
    }
  ]
}